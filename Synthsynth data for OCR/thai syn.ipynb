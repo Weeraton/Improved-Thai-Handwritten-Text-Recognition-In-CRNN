{
 "cells": [
  {
   "cell_type": "code",
   "execution_count": 1,
   "id": "bff8819f",
   "metadata": {},
   "outputs": [
    {
     "name": "stdout",
     "output_type": "stream",
     "text": [
      "Requirement already satisfied: trdg in c:\\users\\pc\\appdata\\local\\programs\\python\\python37\\lib\\site-packages (1.7.0)\n",
      "Requirement already satisfied: opencv-python>=4.2.0.32 in c:\\users\\pc\\appdata\\local\\programs\\python\\python37\\lib\\site-packages (from trdg) (4.5.3.56)\n",
      "Requirement already satisfied: diffimg==0.2.3 in c:\\users\\pc\\appdata\\local\\programs\\python\\python37\\lib\\site-packages (from trdg) (0.2.3)\n",
      "Collecting numpy<1.17,>=1.16.4\n",
      "  Using cached numpy-1.16.6-cp37-cp37m-win_amd64.whl (11.9 MB)Note: you may need to restart the kernel to use updated packages.\n"
     ]
    },
    {
     "name": "stderr",
     "output_type": "stream",
     "text": [
      "ERROR: Could not install packages due to an OSError: [WinError 5] Access is denied: 'c:\\\\users\\\\pc\\\\appdata\\\\local\\\\programs\\\\python\\\\python37\\\\lib\\\\site-packages\\\\~umpy\\\\.libs\\\\libopenblas.WCDJNK7YVMPZQ2ME2ZZHJJRJ3JIKNDB7.gfortran-win_amd64.dll'\n",
      "Consider using the `--user` option or check the permissions.\n",
      "\n"
     ]
    },
    {
     "name": "stdout",
     "output_type": "stream",
     "text": [
      "\n",
      "Requirement already satisfied: requests>=2.20.0 in c:\\users\\pc\\appdata\\local\\programs\\python\\python37\\lib\\site-packages (from trdg) (2.26.0)\n",
      "Requirement already satisfied: pillow>=7.0.0 in c:\\users\\pc\\appdata\\local\\programs\\python\\python37\\lib\\site-packages (from trdg) (8.3.2)\n",
      "Requirement already satisfied: tqdm>=4.23.0 in c:\\users\\pc\\appdata\\local\\programs\\python\\python37\\lib\\site-packages (from trdg) (4.54.1)\n",
      "Requirement already satisfied: beautifulsoup4>=4.6.0 in c:\\users\\pc\\appdata\\local\\programs\\python\\python37\\lib\\site-packages (from trdg) (4.10.0)\n",
      "Requirement already satisfied: soupsieve>1.2 in c:\\users\\pc\\appdata\\local\\programs\\python\\python37\\lib\\site-packages (from beautifulsoup4>=4.6.0->trdg) (2.2.1)\n",
      "Requirement already satisfied: certifi>=2017.4.17 in c:\\users\\pc\\appdata\\local\\programs\\python\\python37\\lib\\site-packages (from requests>=2.20.0->trdg) (2021.5.30)\n",
      "Requirement already satisfied: urllib3<1.27,>=1.21.1 in c:\\users\\pc\\appdata\\local\\programs\\python\\python37\\lib\\site-packages (from requests>=2.20.0->trdg) (1.25.8)\n",
      "Requirement already satisfied: idna<4,>=2.5 in c:\\users\\pc\\appdata\\local\\programs\\python\\python37\\lib\\site-packages (from requests>=2.20.0->trdg) (3.2)\n",
      "Requirement already satisfied: charset-normalizer~=2.0.0 in c:\\users\\pc\\appdata\\local\\programs\\python\\python37\\lib\\site-packages (from requests>=2.20.0->trdg) (2.0.4)\n",
      "Installing collected packages: numpy\n",
      "  Attempting uninstall: numpy\n",
      "    Found existing installation: numpy 1.19.5\n",
      "    Uninstalling numpy-1.19.5:\n",
      "      Successfully uninstalled numpy-1.19.5\n"
     ]
    }
   ],
   "source": [
    "pip install trdg"
   ]
  },
  {
   "cell_type": "code",
   "execution_count": 6,
   "id": "42351a75",
   "metadata": {},
   "outputs": [],
   "source": [
    "from trdg.generators import (\n",
    "    GeneratorFromDict,\n",
    "    GeneratorFromRandom,\n",
    "    GeneratorFromStrings,\n",
    "    GeneratorFromWikipedia,\n",
    ")\n",
    "\n",
    "# The generators use the same arguments as the CLI, only as parameters\n",
    "generator = GeneratorFromStrings(\n",
    "    [ 'การครั้ง', 'หนึ่งนาน','จนไม่รู้แล้ว'],\n",
    "    blur=2,\n",
    "    random_blur=True,\n",
    "    language = 'th'\n",
    ")\n"
   ]
  },
  {
   "cell_type": "code",
   "execution_count": 7,
   "id": "332aa736",
   "metadata": {},
   "outputs": [
    {
     "data": {
      "text/plain": [
       "<trdg.generators.from_strings.GeneratorFromStrings at 0x1a643283608>"
      ]
     },
     "execution_count": 7,
     "metadata": {},
     "output_type": "execute_result"
    }
   ],
   "source": [
    "generator"
   ]
  },
  {
   "cell_type": "code",
   "execution_count": null,
   "id": "6ba975aa",
   "metadata": {},
   "outputs": [
    {
     "name": "stdout",
     "output_type": "stream",
     "text": [
      "การครั้ง\n",
      "หนึ่งนาน\n",
      "จนไม่รู้แล้ว\n",
      "การครั้ง\n",
      "หนึ่งนาน\n",
      "จนไม่รู้แล้ว\n",
      "การครั้ง\n",
      "หนึ่งนาน\n",
      "จนไม่รู้แล้ว\n",
      "การครั้ง\n"
     ]
    }
   ],
   "source": [
    "for img, lbl in generator:\n",
    "    img.show()\n",
    "    print(lbl)"
   ]
  },
  {
   "cell_type": "code",
   "execution_count": null,
   "id": "b975eb3e",
   "metadata": {},
   "outputs": [],
   "source": []
  },
  {
   "cell_type": "code",
   "execution_count": null,
   "id": "5d86a743",
   "metadata": {},
   "outputs": [],
   "source": []
  },
  {
   "cell_type": "code",
   "execution_count": null,
   "id": "1033c14c",
   "metadata": {},
   "outputs": [],
   "source": []
  }
 ],
 "metadata": {
  "kernelspec": {
   "display_name": "Python 3 (ipykernel)",
   "language": "python",
   "name": "python3"
  },
  "language_info": {
   "codemirror_mode": {
    "name": "ipython",
    "version": 3
   },
   "file_extension": ".py",
   "mimetype": "text/x-python",
   "name": "python",
   "nbconvert_exporter": "python",
   "pygments_lexer": "ipython3",
   "version": "3.7.5"
  }
 },
 "nbformat": 4,
 "nbformat_minor": 5
}
