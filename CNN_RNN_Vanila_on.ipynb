{
  "nbformat": 4,
  "nbformat_minor": 0,
  "metadata": {
    "colab": {
      "name": "สำเนาของ CNN-RNN-Vanila on.ipynb",
      "provenance": [],
      "collapsed_sections": [],
      "mount_file_id": "1tPFRaEPtCiBg-xnpDb9QC_X2Zm-oEA-3",
      "authorship_tag": "ABX9TyPP238eoAvDUv0n2d7oEjPL",
      "include_colab_link": true
    },
    "kernelspec": {
      "display_name": "Python 3",
      "name": "python3"
    },
    "language_info": {
      "name": "python"
    }
  },
  "cells": [
    {
      "cell_type": "markdown",
      "metadata": {
        "id": "view-in-github",
        "colab_type": "text"
      },
      "source": [
        "<a href=\"https://colab.research.google.com/github/Weeraton/Improved-Thai-Handwritten-Text-Recognition-In-CRNN/blob/main/CNN_RNN_Vanila_on.ipynb\" target=\"_parent\"><img src=\"https://colab.research.google.com/assets/colab-badge.svg\" alt=\"Open In Colab\"/></a>"
      ]
    },
    {
      "cell_type": "code",
      "metadata": {
        "id": "exHsfrZnVbsC",
        "colab": {
          "base_uri": "https://localhost:8080/"
        },
        "outputId": "8fb85e4e-95bf-4b95-ebfd-b7a63d472168"
      },
      "source": [
        "!wget -q https://git.io/J0fjL -O IAM_Words.zip\n",
        "!unzip -qq IAM_Words.zip\n",
        "!a\n",
        "!mkdir data\n",
        "!mkdir data/words\n",
        "!tar -xf IAM_Words/words.tgz -C data/words\n",
        "!mv IAM_Words/words.txt data"
      ],
      "execution_count": 8,
      "outputs": [
        {
          "output_type": "stream",
          "name": "stdout",
          "text": [
            "/bin/bash: a: command not found\n"
          ]
        }
      ]
    },
    {
      "cell_type": "code",
      "metadata": {
        "id": "IgtYW5WhXTgm",
        "colab": {
          "base_uri": "https://localhost:8080/"
        },
        "outputId": "33268036-cd53-4cc0-9adf-f3a87b7f9eb6"
      },
      "source": [
        "!head -20 data/words.txt"
      ],
      "execution_count": 9,
      "outputs": [
        {
          "output_type": "stream",
          "name": "stdout",
          "text": [
            "#--- words.txt ---------------------------------------------------------------#\n",
            "#\n",
            "# iam database word information\n",
            "#\n",
            "# format: a01-000u-00-00 ok 154 1 408 768 27 51 AT A\n",
            "#\n",
            "#     a01-000u-00-00  -> word id for line 00 in form a01-000u\n",
            "#     ok              -> result of word segmentation\n",
            "#                            ok: word was correctly\n",
            "#                            er: segmentation of word can be bad\n",
            "#\n",
            "#     154             -> graylevel to binarize the line containing this word\n",
            "#     1               -> number of components for this word\n",
            "#     408 768 27 51   -> bounding box around this word in x,y,w,h format\n",
            "#     AT              -> the grammatical tag for this word, see the\n",
            "#                        file tagset.txt for an explanation\n",
            "#     A               -> the transcription for this word\n",
            "#\n",
            "a01-000u-00-00 ok 154 408 768 27 51 AT A\n",
            "a01-000u-00-01 ok 154 507 766 213 48 NN MOVE\n"
          ]
        }
      ]
    },
    {
      "cell_type": "code",
      "metadata": {
        "id": "nJDetRBaXWGi"
      },
      "source": [
        "from tensorflow.keras.layers.experimental.preprocessing import StringLookup\n",
        "from tensorflow import keras\n",
        "\n",
        "import matplotlib.pyplot as plt\n",
        "import tensorflow as tf\n",
        "import numpy as np\n",
        "import os\n",
        "\n",
        "np.random.seed(42)\n",
        "tf.random.set_seed(42)"
      ],
      "execution_count": 10,
      "outputs": []
    },
    {
      "cell_type": "code",
      "metadata": {
        "id": "1nCBraGUjjKL"
      },
      "source": [
        "base_path = \"data\"\n",
        "words_list = []\n",
        "\n",
        "words = open(f\"{base_path}/words.txt\", \"r\").readlines()\n",
        "for line in words:\n",
        "    if line[0] == \"#\":\n",
        "        continue\n",
        "    if line.split(\" \")[1] != \"err\":  # We don't need to deal with errored entries.\n",
        "        words_list.append(line)\n",
        "\n",
        "len(words_list)\n",
        "\n",
        "np.random.shuffle(words_list)"
      ],
      "execution_count": 11,
      "outputs": []
    },
    {
      "cell_type": "code",
      "metadata": {
        "id": "_IBDeVBDcWED",
        "colab": {
          "base_uri": "https://localhost:8080/"
        },
        "outputId": "d66ed08c-bb89-4fa6-8295-df73c215c1d1"
      },
      "source": [
        "split_idx = int(0.9 * len(words_list))\n",
        "train_samples = words_list[:split_idx]\n",
        "test_samples = words_list[split_idx:]\n",
        "\n",
        "val_split_idx = int(0.5 * len(test_samples))\n",
        "validation_samples = test_samples[:val_split_idx]\n",
        "test_samples = test_samples[val_split_idx:]\n",
        "\n",
        "assert len(words_list) == len(train_samples) + len(validation_samples) + len(\n",
        "    test_samples\n",
        ")\n",
        "\n",
        "print(f\"Total training samples: {len(train_samples)}\")\n",
        "print(f\"Total validation samples: {len(validation_samples)}\")\n",
        "print(f\"Total test samples: {len(test_samples)}\")"
      ],
      "execution_count": 12,
      "outputs": [
        {
          "output_type": "stream",
          "name": "stdout",
          "text": [
            "Total training samples: 86810\n",
            "Total validation samples: 4823\n",
            "Total test samples: 4823\n"
          ]
        }
      ]
    },
    {
      "cell_type": "code",
      "metadata": {
        "id": "BUwFNuZ4ERUj",
        "colab": {
          "base_uri": "https://localhost:8080/"
        },
        "outputId": "6d091523-c41b-4cb5-f1c3-4fb1b75126c9"
      },
      "source": [
        "train_labels2 = []\n",
        "max_len = 0\n",
        "\n",
        "for label in train_samples:\n",
        "    label2 = label.split(\" \")[-1].strip()\n",
        "    if(len(label2) > 4):\n",
        "      train_labels2.append(label)\n",
        "\n",
        "\n",
        "\n",
        "train_samples =train_labels2\n",
        "print(f\"Total training samples: {len( train_samples)}\")"
      ],
      "execution_count": 13,
      "outputs": [
        {
          "output_type": "stream",
          "name": "stdout",
          "text": [
            "Total training samples: 31452\n"
          ]
        }
      ]
    },
    {
      "cell_type": "code",
      "metadata": {
        "id": "VBQC_B-_jtvk"
      },
      "source": [
        "base_image_path = os.path.join(base_path, \"words\")\n",
        "\n",
        "\n",
        "def get_image_paths_and_labels(samples):\n",
        "    paths = []\n",
        "    corrected_samples = []\n",
        "    for (i, file_line) in enumerate(samples):\n",
        "        line_split = file_line.strip()\n",
        "        line_split = line_split.split(\" \")\n",
        "\n",
        "        # Each line split will have this format for the corresponding image:\n",
        "        # part1/part1-part2/part1-part2-part3.png\n",
        "        image_name = line_split[0]\n",
        "        partI = image_name.split(\"-\")[0]\n",
        "        partII = image_name.split(\"-\")[1]\n",
        "        img_path = os.path.join(\n",
        "            base_image_path, partI, partI + \"-\" + partII, image_name + \".png\"\n",
        "        )\n",
        "        if os.path.getsize(img_path):\n",
        "            paths.append(img_path)\n",
        "            corrected_samples.append(file_line.split(\"\\n\")[0])\n",
        "\n",
        "    return paths, corrected_samples\n",
        "\n",
        "\n",
        "train_img_paths, train_labels = get_image_paths_and_labels(train_samples)\n",
        "validation_img_paths, validation_labels = get_image_paths_and_labels(validation_samples)\n",
        "test_img_paths, test_labels = get_image_paths_and_labels(test_samples)"
      ],
      "execution_count": 14,
      "outputs": []
    },
    {
      "cell_type": "code",
      "metadata": {
        "id": "BzL6DQFMWgxP",
        "colab": {
          "base_uri": "https://localhost:8080/"
        },
        "outputId": "a1cfbab7-5cdf-40ae-8a5f-b106e398b6b8"
      },
      "source": [
        "train_labels_cleaned = []\n",
        "characters = set()\n",
        "max_len = 0\n",
        "min_len = 100\n",
        "for label in train_labels:\n",
        "    label = label.split(\" \")[-1].strip()\n",
        "    for char in label:\n",
        "        characters.add(char)\n",
        "\n",
        "    max_len = max(max_len, len(label))\n",
        "    min_len = min(max_len, len(label))\n",
        "    train_labels_cleaned.append(label)\n",
        "\n",
        "print(\"Maximum length: \", max_len)\n",
        "print(\"Minimum length: \", min_len)\n",
        "print(\"Vocab size: \", len(characters))\n",
        "\n",
        "# Check some label samples.\n",
        "train_labels_cleaned[:10]"
      ],
      "execution_count": 15,
      "outputs": [
        {
          "output_type": "stream",
          "name": "stdout",
          "text": [
            "Maximum length:  21\n",
            "Minimum length:  10\n",
            "Vocab size:  70\n"
          ]
        },
        {
          "output_type": "execute_result",
          "data": {
            "text/plain": [
              "['during',\n",
              " 'booty',\n",
              " 'gastronomy',\n",
              " 'flying',\n",
              " 'presented',\n",
              " 'items',\n",
              " 'sedate',\n",
              " 'compelled',\n",
              " 'several',\n",
              " 'families']"
            ]
          },
          "metadata": {},
          "execution_count": 15
        }
      ]
    },
    {
      "cell_type": "code",
      "metadata": {
        "id": "PX2OpfQPWkBh"
      },
      "source": [
        "def clean_labels(labels):\n",
        "    cleaned_labels = []\n",
        "    for label in labels:\n",
        "        label = label.split(\" \")[-1].strip()\n",
        "        cleaned_labels.append(label)\n",
        "    return cleaned_labels\n",
        "\n",
        "\n",
        "validation_labels_cleaned = clean_labels(validation_labels)\n",
        "test_labels_cleaned = clean_labels(test_labels)"
      ],
      "execution_count": 16,
      "outputs": []
    },
    {
      "cell_type": "code",
      "metadata": {
        "id": "Yc36uyerWoKm"
      },
      "source": [
        "AUTOTUNE = tf.data.AUTOTUNE\n",
        "\n",
        "# Mapping characters to integers.\n",
        "char_to_num = StringLookup(vocabulary=list(characters), mask_token=None)\n",
        "\n",
        "# Mapping integers back to original characters.\n",
        "num_to_char = StringLookup(\n",
        "    vocabulary=char_to_num.get_vocabulary(), mask_token=None, invert=True\n",
        ")"
      ],
      "execution_count": 17,
      "outputs": []
    },
    {
      "cell_type": "code",
      "metadata": {
        "id": "mlli8SQCW5va"
      },
      "source": [
        "def distortion_free_resize(image, img_size):\n",
        "    w, h = img_size\n",
        "    image = tf.image.resize(image, size=(h, w), preserve_aspect_ratio=True)\n",
        "\n",
        "    # Check tha amount of padding needed to be done.\n",
        "    pad_height = h - tf.shape(image)[0]\n",
        "    pad_width = w - tf.shape(image)[1]\n",
        "\n",
        "    # Only necessary if you want to do same amount of padding on both sides.\n",
        "    if pad_height % 2 != 0:\n",
        "        height = pad_height // 2\n",
        "        pad_height_top = height + 1\n",
        "        pad_height_bottom = height\n",
        "    else:\n",
        "        pad_height_top = pad_height_bottom = pad_height // 2\n",
        "\n",
        "    if pad_width % 2 != 0:\n",
        "        width = pad_width // 2\n",
        "        pad_width_left = width + 1\n",
        "        pad_width_right = width\n",
        "    else:\n",
        "        pad_width_left = pad_width_right = pad_width // 2\n",
        "\n",
        "    image = tf.pad(\n",
        "        image,\n",
        "        paddings=[\n",
        "            [pad_height_top, pad_height_bottom],\n",
        "            [pad_width_left, pad_width_right],\n",
        "            [0, 0],\n",
        "        ],\n",
        "    )\n",
        "\n",
        "    image = tf.transpose(image, perm=[1, 0, 2])\n",
        "    image = tf.image.flip_left_right(image)\n",
        "    return image"
      ],
      "execution_count": 18,
      "outputs": []
    },
    {
      "cell_type": "code",
      "metadata": {
        "id": "8nL3kZ-XXAOu"
      },
      "source": [
        "batch_size = 64\n",
        "padding_token = 99\n",
        "image_width = 128\n",
        "image_height = 32\n",
        "\n",
        "\n",
        "def preprocess_image(image_path, img_size=(image_width, image_height)):\n",
        "    image = tf.io.read_file(image_path)\n",
        "    image = tf.image.decode_png(image, 1)\n",
        "    image = distortion_free_resize(image, img_size)\n",
        "    image = tf.cast(image, tf.float32) / 255.0\n",
        "    return image\n",
        "\n",
        "\n",
        "def vectorize_label(label):\n",
        "    label = char_to_num(tf.strings.unicode_split(label, input_encoding=\"UTF-8\"))\n",
        "    length = tf.shape(label)[0]\n",
        "    pad_amount = max_len - length\n",
        "    label = tf.pad(label, paddings=[[0, pad_amount]], constant_values=padding_token)\n",
        "    return label\n",
        "\n",
        "\n",
        "def process_images_labels(image_path, label):\n",
        "    image = preprocess_image(image_path)\n",
        "    label = vectorize_label(label)\n",
        "    return {\"image\": image, \"label\": label}\n",
        "\n",
        "\n",
        "def prepare_dataset(image_paths, labels):\n",
        "    dataset = tf.data.Dataset.from_tensor_slices((image_paths, labels)).map(\n",
        "        process_images_labels, num_parallel_calls=AUTOTUNE\n",
        "    )\n",
        "    return dataset.batch(batch_size).cache().prefetch(AUTOTUNE)"
      ],
      "execution_count": 19,
      "outputs": []
    },
    {
      "cell_type": "code",
      "metadata": {
        "id": "_7SPcfZ9XD96"
      },
      "source": [
        "train_ds = prepare_dataset(train_img_paths, train_labels_cleaned)\n",
        "validation_ds = prepare_dataset(validation_img_paths, validation_labels_cleaned)\n",
        "test_ds = prepare_dataset(test_img_paths, test_labels_cleaned)"
      ],
      "execution_count": 20,
      "outputs": []
    },
    {
      "cell_type": "code",
      "metadata": {
        "id": "-avGgvlaXGfG",
        "colab": {
          "base_uri": "https://localhost:8080/",
          "height": 433
        },
        "outputId": "24f770eb-4b41-4dda-faae-ec6e53d07e6d"
      },
      "source": [
        "for data in train_ds.take(1):\n",
        "    images, labels = data[\"image\"], data[\"label\"]\n",
        "\n",
        "    _, ax = plt.subplots(4, 4, figsize=(15, 8))\n",
        "\n",
        "    for i in range(16):\n",
        "        img = images[i]\n",
        "        img = tf.image.flip_left_right(img)\n",
        "        img = tf.transpose(img, perm=[1, 0, 2])\n",
        "        img = (img * 255.0).numpy().clip(0, 255).astype(np.uint8)\n",
        "        img = img[:, :, 0]\n",
        "\n",
        "        # Gather indices where label!= padding_token.\n",
        "        label = labels[i]\n",
        "        indices = tf.gather(label, tf.where(tf.math.not_equal(label, padding_token)))\n",
        "        # Convert to string.\n",
        "        label = tf.strings.reduce_join(num_to_char(indices))\n",
        "        label = label.numpy().decode(\"utf-8\")\n",
        "\n",
        "        ax[i // 4, i % 4].imshow(img, cmap=\"gray\")\n",
        "        ax[i // 4, i % 4].set_title(label)\n",
        "        ax[i // 4, i % 4].axis(\"off\")\n",
        "\n",
        "\n",
        "plt.show()"
      ],
      "execution_count": 21,
      "outputs": [
        {
          "output_type": "display_data",
          "data": {
            "image/png": "[encoded data removed]",
            "text/plain": [
              "<Figure size 1080x576 with 16 Axes>"
            ]
          },
          "metadata": {
            "needs_background": "light"
          }
        }
      ]
    },
    {
      "cell_type": "code",
      "metadata": {
        "id": "pAWMK_4QS5Yi"
      },
      "source": [
        "#  2.4651 - val_loss: 2.5315\n",
        "# Mean edit distance for epoch 46: 17.6239"
      ],
      "execution_count": 22,
      "outputs": []
    },
    {
      "cell_type": "code",
      "metadata": {
        "id": "ml3BSoQWeKuQ"
      },
      "source": [
        "early_stopping_patience = 50\n",
        "# Add early stopping\n",
        "early_stopping = keras.callbacks.EarlyStopping(\n",
        "    monitor=\"val_loss\", patience=early_stopping_patience, restore_best_weights=True\n",
        ")"
      ],
      "execution_count": 23,
      "outputs": []
    },
    {
      "cell_type": "code",
      "metadata": {
        "id": "lzvNJ4fBXIoL",
        "colab": {
          "base_uri": "https://localhost:8080/"
        },
        "outputId": "13b98140-a817-4079-dfb4-338e37f885c2"
      },
      "source": [
        "class CTCLayer(keras.layers.Layer):\n",
        "    def __init__(self, name=None):\n",
        "        super().__init__(name=name)\n",
        "        self.loss_fn = keras.backend.ctc_batch_cost\n",
        "        self.ignore_longer_outputs_than_inputs=True\n",
        "    def call(self, y_true, y_pred):\n",
        "        batch_len = tf.cast(tf.shape(y_true)[0], dtype=\"int64\")\n",
        "        input_length = tf.cast(tf.shape(y_pred)[1], dtype=\"int64\")\n",
        "        label_length = tf.cast(tf.shape(y_true)[1], dtype=\"int64\")\n",
        "\n",
        "        input_length = input_length * tf.ones(shape=(batch_len, 1), dtype=\"int64\")\n",
        "        label_length = label_length * tf.ones(shape=(batch_len, 1), dtype=\"int64\")\n",
        "        loss = self.loss_fn(y_true, y_pred, input_length, label_length)\n",
        "        self.add_loss(loss)\n",
        "\n",
        "        # At test time, just return the computed predictions.\n",
        "        return y_pred\n",
        "\n",
        "\n",
        "def build_model():\n",
        "    # Inputs to the model\n",
        "    input_img = keras.Input(shape=(image_width, image_height, 1), name=\"image\")\n",
        "    labels = keras.layers.Input(name=\"label\", shape=(None,))\n",
        "\n",
        "    # First conv block.\n",
        "    x = keras.layers.Conv2D(\n",
        "        32,\n",
        "        (3, 3),\n",
        "        activation=\"relu\",\n",
        "        kernel_initializer=\"he_normal\",\n",
        "        padding=\"same\",\n",
        "        name=\"Conv1\",\n",
        "    )(input_img)\n",
        "    x = keras.layers.MaxPooling2D((2, 2), name=\"pool1\")(x)\n",
        "\n",
        "    # Second conv block.\n",
        "    x = keras.layers.Conv2D(\n",
        "        64,\n",
        "        (3, 3),\n",
        "        activation=\"relu\",\n",
        "        kernel_initializer=\"he_normal\",\n",
        "        padding=\"same\",\n",
        "        name=\"Conv2\",\n",
        "    )(x)\n",
        "    x = keras.layers.MaxPooling2D((2, 2), name=\"pool2\")(x)\n",
        "\n",
        "    ### 2D Self-Attention ###\n",
        "    # x = keras.layers.MultiHeadAttention(num_heads=2, key_dim=2)(x,x)\n",
        "\n",
        "\n",
        "    # We have used two max pool with pool size and strides 2.\n",
        "    # Hence, downsampled feature maps are 4x smaller. The number of\n",
        "    # filters in the last layer is 64. Reshape accordingly before\n",
        "    # passing the output to the RNN part of the model.\n",
        "\n",
        "    new_shape = ((image_width // 4), (image_height // 4) * 64)\n",
        "    x = keras.layers.Reshape(target_shape=new_shape, name=\"reshape\")(x)\n",
        "    x = keras.layers.Dense(64, activation=\"relu\", name=\"dense1\")(x)\n",
        "    x = keras.layers.Dropout(0.2)(x)\n",
        "   \n",
        "    # RNNs.\n",
        "    x = keras.layers.Bidirectional(\n",
        "        keras.layers.LSTM(128, return_sequences=True, dropout=0.25)\n",
        "    )(x)\n",
        "    x = keras.layers.Bidirectional(\n",
        "        keras.layers.LSTM(64, return_sequences=True, dropout=0.25)\n",
        "    )(x)\n",
        "\n",
        "    # +2 is to account for the two special tokens introduced by the CTC loss.\n",
        "    # The recommendation comes here: https://git.io/J0eXP.\n",
        "    x = keras.layers.Dense(\n",
        "        len(char_to_num.get_vocabulary()) + 2, activation=\"softmax\", name=\"dense2\"\n",
        "    )(x)\n",
        "\n",
        "    # Add CTC layer for calculating CTC loss at each step.\n",
        "    output = CTCLayer(name=\"ctc_loss\")(labels, x)\n",
        "\n",
        "\n",
        "    # Define the model.\n",
        "    model = keras.models.Model(\n",
        "        inputs=[input_img, labels], outputs=output, name=\"handwriting_recognizer\"\n",
        "    )\n",
        "    # Optimizer.\n",
        "    opt = keras.optimizers.Adam()\n",
        "    # Compile the model and return.\n",
        "    model.compile(optimizer=opt)\n",
        "    return model\n",
        "\n",
        "\n",
        "\n",
        "# Get the model.\n",
        "model = build_model()\n",
        "model.summary()"
      ],
      "execution_count": 24,
      "outputs": [
        {
          "output_type": "stream",
          "name": "stdout",
          "text": [
            "Model: \"handwriting_recognizer\"\n",
            "__________________________________________________________________________________________________\n",
            "Layer (type)                    Output Shape         Param #     Connected to                     \n",
            "==================================================================================================\n",
            "image (InputLayer)              [(None, 128, 32, 1)] 0                                            \n",
            "__________________________________________________________________________________________________\n",
            "Conv1 (Conv2D)                  (None, 128, 32, 32)  320         image[0][0]                      \n",
            "__________________________________________________________________________________________________\n",
            "pool1 (MaxPooling2D)            (None, 64, 16, 32)   0           Conv1[0][0]                      \n",
            "__________________________________________________________________________________________________\n",
            "Conv2 (Conv2D)                  (None, 64, 16, 64)   18496       pool1[0][0]                      \n",
            "__________________________________________________________________________________________________\n",
            "pool2 (MaxPooling2D)            (None, 32, 8, 64)    0           Conv2[0][0]                      \n",
            "__________________________________________________________________________________________________\n",
            "reshape (Reshape)               (None, 32, 512)      0           pool2[0][0]                      \n",
            "__________________________________________________________________________________________________\n",
            "dense1 (Dense)                  (None, 32, 64)       32832       reshape[0][0]                    \n",
            "__________________________________________________________________________________________________\n",
            "dropout (Dropout)               (None, 32, 64)       0           dense1[0][0]                     \n",
            "__________________________________________________________________________________________________\n",
            "bidirectional (Bidirectional)   (None, 32, 256)      197632      dropout[0][0]                    \n",
            "__________________________________________________________________________________________________\n",
            "bidirectional_1 (Bidirectional) (None, 32, 128)      164352      bidirectional[0][0]              \n",
            "__________________________________________________________________________________________________\n",
            "label (InputLayer)              [(None, None)]       0                                            \n",
            "__________________________________________________________________________________________________\n",
            "dense2 (Dense)                  (None, 32, 73)       9417        bidirectional_1[0][0]            \n",
            "__________________________________________________________________________________________________\n",
            "ctc_loss (CTCLayer)             (None, 32, 73)       0           label[0][0]                      \n",
            "                                                                 dense2[0][0]                     \n",
            "==================================================================================================\n",
            "Total params: 423,049\n",
            "Trainable params: 423,049\n",
            "Non-trainable params: 0\n",
            "__________________________________________________________________________________________________\n"
          ]
        }
      ]
    },
    {
      "cell_type": "code",
      "metadata": {
        "id": "l82sApViXTtR"
      },
      "source": [
        "validation_images = []\n",
        "validation_labels = []\n",
        "\n",
        "for batch in validation_ds:\n",
        "    validation_images.append(batch[\"image\"])\n",
        "    validation_labels.append(batch[\"label\"])"
      ],
      "execution_count": 25,
      "outputs": []
    },
    {
      "cell_type": "code",
      "metadata": {
        "id": "HAjcPjdXXY60"
      },
      "source": [
        "def calculate_edit_distance(labels, predictions):\n",
        "    # Get a single batch and convert its labels to sparse tensors.\n",
        "    saprse_labels = tf.cast(tf.sparse.from_dense(labels), dtype=tf.int64)\n",
        "\n",
        "    # Make predictions and convert them to sparse tensors.\n",
        "    input_len = np.ones(predictions.shape[0]) * predictions.shape[1]\n",
        "    predictions_decoded = keras.backend.ctc_decode(\n",
        "        predictions, input_length=input_len, greedy=True\n",
        "    )[0][0][:, :max_len]\n",
        "    sparse_predictions = tf.cast(\n",
        "        tf.sparse.from_dense(predictions_decoded), dtype=tf.int64\n",
        "    )\n",
        "\n",
        "    # Compute individual edit distances and average them out.\n",
        "    edit_distances = tf.edit_distance(\n",
        "        sparse_predictions, saprse_labels, normalize=False\n",
        "    )\n",
        "    return tf.reduce_mean(edit_distances)\n",
        "\n",
        "\n",
        "class EditDistanceCallback(keras.callbacks.Callback):\n",
        "    def __init__(self, pred_model):\n",
        "        super().__init__()\n",
        "        self.prediction_model = pred_model\n",
        "\n",
        "    def on_epoch_end(self, epoch, logs=None):\n",
        "        edit_distances = []\n",
        "\n",
        "        for i in range(len(validation_images)):\n",
        "            labels = validation_labels[i]\n",
        "            predictions = self.prediction_model.predict(validation_images[i])\n",
        "            edit_distances.append(calculate_edit_distance(labels, predictions).numpy())\n",
        "\n",
        "        print(\n",
        "            f\"Mean edit distance for epoch {epoch + 1}: {np.mean(edit_distances):.4f}\"\n",
        "        )"
      ],
      "execution_count": 26,
      "outputs": []
    },
    {
      "cell_type": "code",
      "metadata": {
        "id": "kMksGuNLYgrX"
      },
      "source": [
        "\n",
        "model = build_model()\n",
        "prediction_model = keras.models.Model(\n",
        "    model.get_layer(name=\"image\").input, model.get_layer(name=\"dense2\").output\n",
        ")\n",
        "edit_distance_callback = EditDistanceCallback(prediction_model)"
      ],
      "execution_count": 27,
      "outputs": []
    },
    {
      "cell_type": "code",
      "metadata": {
        "id": "tRe-b7iNXa2I",
        "colab": {
          "base_uri": "https://localhost:8080/"
        },
        "outputId": "3f5cdc98-5de2-42b6-a274-e2bd064a1300"
      },
      "source": [
        "epochs = 50  # To get good results this should be at least 50.\n",
        "\n",
        "\n",
        "# Train the model.\n",
        "history = model.fit(\n",
        "    train_ds,\n",
        "    validation_data=validation_ds,\n",
        "    epochs=epochs,\n",
        "    callbacks=[edit_distance_callback],\n",
        ")"
      ],
      "execution_count": null,
      "outputs": [
        {
          "output_type": "stream",
          "name": "stdout",
          "text": [
            "Epoch 1/30\n",
            "492/492 [==============================] - 324s 650ms/step - loss: 23.5584 - val_loss: 15.2570\n",
            "Mean edit distance for epoch 1: 20.9994\n",
            "Epoch 2/30\n",
            "492/492 [==============================] - 299s 608ms/step - loss: 21.4297 - val_loss: 14.5580\n",
            "Mean edit distance for epoch 2: 20.5666\n",
            "Epoch 3/30\n",
            "492/492 [==============================] - 306s 621ms/step - loss: 19.6268 - val_loss: 12.8705\n",
            "Mean edit distance for epoch 3: 20.5405\n",
            "Epoch 4/30\n",
            "492/492 [==============================] - 303s 615ms/step - loss: 17.8519 - val_loss: 12.1029\n",
            "Mean edit distance for epoch 4: 20.3991\n",
            "Epoch 5/30\n",
            "492/492 [==============================] - 304s 618ms/step - loss: 16.4159 - val_loss: 11.2544\n",
            "Mean edit distance for epoch 5: 20.2120\n",
            "Epoch 6/30\n",
            "492/492 [==============================] - 302s 613ms/step - loss: 14.9579 - val_loss: 10.2699\n",
            "Mean edit distance for epoch 6: 19.8122\n",
            "Epoch 7/30\n",
            "492/492 [==============================] - 305s 620ms/step - loss: 13.3171 - val_loss: 9.3778\n",
            "Mean edit distance for epoch 7: 19.3488\n",
            "Epoch 8/30\n",
            "492/492 [==============================] - 306s 622ms/step - loss: 11.8673 - val_loss: 8.6355\n",
            "Mean edit distance for epoch 8: 19.0795\n",
            "Epoch 9/30\n",
            "492/492 [==============================] - 308s 626ms/step - loss: 10.6864 - val_loss: 8.1956\n",
            "Mean edit distance for epoch 9: 18.8605\n",
            "Epoch 10/30\n",
            "492/492 [==============================] - 308s 626ms/step - loss: 9.7350 - val_loss: 7.9118\n",
            "Mean edit distance for epoch 10: 18.6624\n",
            "Epoch 11/30\n",
            "492/492 [==============================] - 307s 625ms/step - loss: 8.9748 - val_loss: 7.4444\n",
            "Mean edit distance for epoch 11: 18.5214\n",
            "Epoch 12/30\n",
            "492/492 [==============================] - 308s 626ms/step - loss: 8.3111 - val_loss: 7.3540\n",
            "Mean edit distance for epoch 12: 18.4162\n",
            "Epoch 13/30\n",
            "492/492 [==============================] - 306s 622ms/step - loss: 7.8061 - val_loss: 7.0184\n",
            "Mean edit distance for epoch 13: 18.3515\n",
            "Epoch 14/30\n",
            "492/492 [==============================] - 308s 625ms/step - loss: 7.3670 - val_loss: 6.6788\n",
            "Mean edit distance for epoch 14: 18.2914\n",
            "Epoch 15/30\n",
            "492/492 [==============================] - 307s 624ms/step - loss: 6.9939 - val_loss: 6.6280\n",
            "Mean edit distance for epoch 15: 18.2400\n",
            "Epoch 16/30\n",
            "492/492 [==============================] - 305s 621ms/step - loss: 6.7006 - val_loss: 6.6068\n",
            "Mean edit distance for epoch 16: 18.2008\n",
            "Epoch 17/30\n",
            "492/492 [==============================] - 306s 623ms/step - loss: 6.4370 - val_loss: 6.3288\n",
            "Mean edit distance for epoch 17: 18.1599\n",
            "Epoch 18/30\n",
            "492/492 [==============================] - 306s 623ms/step - loss: 6.1888 - val_loss: 6.3736\n",
            "Mean edit distance for epoch 18: 18.1432\n",
            "Epoch 19/30\n",
            "492/492 [==============================] - 308s 627ms/step - loss: 5.9837 - val_loss: 6.4966\n",
            "Mean edit distance for epoch 19: 18.1311\n",
            "Epoch 20/30\n",
            "492/492 [==============================] - 306s 622ms/step - loss: 5.7813 - val_loss: 6.4957\n",
            "Mean edit distance for epoch 20: 18.1027\n",
            "Epoch 21/30\n",
            "492/492 [==============================] - 307s 623ms/step - loss: 5.6088 - val_loss: 6.1953\n",
            "Mean edit distance for epoch 21: 18.0762\n",
            "Epoch 22/30\n",
            "343/492 [===================>..........] - ETA: 1:29 - loss: 5.4763"
          ]
        }
      ]
    },
    {
      "cell_type": "markdown",
      "metadata": {
        "id": "gVgXI9WK3sgJ"
      },
      "source": [
        "Epoch 1/50\n",
        "1357/1357 [==============================] - 872s 637ms/step - loss: 13.7627 - val_loss: 12.1978\n",
        "Mean edit distance for epoch 1: 20.4784\n",
        "Epoch 2/50\n",
        "1357/1357 [==============================] - 807s 595ms/step - loss: 11.3531 - val_loss: 10.2605\n",
        "Mean edit distance for epoch 2: 20.1812\n",
        "Epoch 3/50\n",
        "1357/1357 [==============================] - 813s 599ms/step - loss: 9.6770 - val_loss: 8.7144\n",
        "Mean edit distance for epoch 3: 19.9340\n",
        "Epoch 4/50\n",
        "1357/1357 [==============================] - 810s 597ms/step - loss: 8.3410 - val_loss: 7.2039\n",
        "Mean edit distance for epoch 4: 19.5045\n",
        "Epoch 5/50\n",
        "1357/1357 [==============================] - 811s 598ms/step - loss: 6.9445 - val_loss: 5.6739\n",
        "Mean edit distance for epoch 5: 18.8497\n",
        "Epoch 6/50\n",
        "1357/1357 [==============================] - 814s 600ms/step - loss: 5.7369 - val_loss: 4.5437\n",
        "Mean edit distance for epoch 6: 18.3769\n",
        "Epoch 7/50\n",
        "1357/1357 [==============================] - 812s 599ms/step - loss: 4.8900 - val_loss: 3.8967\n",
        "Mean edit distance for epoch 7: 18.1234\n",
        "Epoch 8/50\n",
        "1357/1357 [==============================] - 814s 600ms/step - loss: 4.3543 - val_loss: 3.4385\n",
        "Mean edit distance for epoch 8: 17.9284\n",
        "Epoch 9/50\n",
        "1357/1357 [==============================] - 812s 599ms/step - loss: 3.9772 - val_loss: 3.2063\n",
        "Mean edit distance for epoch 9: 17.8982\n",
        "Epoch 10/50\n",
        "1357/1357 [==============================] - 807s 595ms/step - loss: 3.6751 - val_loss: 2.9815\n",
        "Mean edit distance for epoch 10: 17.8062\n",
        "Epoch 11/50\n",
        "1357/1357 [==============================] - 808s 595ms/step - loss: 3.4625 - val_loss: 2.9122\n",
        "Mean edit distance for epoch 11: 17.7735\n",
        "Epoch 12/50\n",
        "1357/1357 [==============================] - 810s 597ms/step - loss: 3.2657 - val_loss: 2.7347\n",
        "Mean edit distance for epoch 12: 17.7467\n",
        "Epoch 13/50\n",
        "1357/1357 [==============================] - 809s 596ms/step - loss: 3.1176 - val_loss: 2.7052\n",
        "Mean edit distance for epoch 13: 17.7332\n",
        "Epoch 14/50\n",
        "1357/1357 [==============================] - 812s 598ms/step - loss: 2.9892 - val_loss: 2.5579\n",
        "Mean edit distance for epoch 14: 17.6722\n",
        "Epoch 15/50\n",
        "1357/1357 [==============================] - 815s 601ms/step - loss: 2.8751 - val_loss: 2.4128\n",
        "Mean edit distance for epoch 15: 17.6384\n",
        "Epoch 16/50\n",
        "1357/1357 [==============================] - 814s 600ms/step - loss: 2.7685 - val_loss: 2.3425\n",
        "Mean edit distance for epoch 16: 17.5668\n",
        "Epoch 17/50\n",
        "1357/1357 [==============================] - 812s 598ms/step - loss: 2.6780 - val_loss: 2.2638\n",
        "Mean edit distance for epoch 17: 17.5537\n",
        "Epoch 18/50\n",
        "1357/1357 [==============================] - 811s 598ms/step - loss: 2.5937 - val_loss: 2.3609\n",
        "Mean edit distance for epoch 18: 17.6197\n",
        "Epoch 19/50\n",
        "1357/1357 [==============================] - 814s 600ms/step - loss: 2.5318 - val_loss: 2.1526\n",
        "Mean edit distance for epoch 19: 17.5270\n",
        "Epoch 20/50\n",
        "1357/1357 [==============================] - 814s 600ms/step - loss: 2.4675 - val_loss: 2.1673\n",
        "Mean edit distance for epoch 20: 17.5243\n",
        "Epoch 21/50\n",
        "1357/1357 [==============================] - 814s 600ms/step - loss: 2.4057 - val_loss: 2.1408\n",
        "Mean edit distance for epoch 21: 17.5106\n",
        "Epoch 22/50\n",
        "1357/1357 [==============================] - 814s 600ms/step - loss: 2.3479 - val_loss: 2.0916\n",
        "Mean edit distance for epoch 22: 17.4780\n",
        "Epoch 23/50\n",
        "1357/1357 [==============================] - 814s 600ms/step - loss: 2.2925 - val_loss: 2.0858\n",
        "Mean edit distance for epoch 23: 17.4811\n",
        "Epoch 24/50\n",
        "1357/1357 [==============================] - 815s 601ms/step - loss: 2.2561 - val_loss: 2.0693\n",
        "Mean edit distance for epoch 24: 17.4733\n",
        "Epoch 25/50\n",
        "1357/1357 [==============================] - 812s 598ms/step - loss: 2.2162 - val_loss: 1.9694\n",
        "Mean edit distance for epoch 25: 17.4195\n",
        "Epoch 26/50\n",
        "1357/1357 [==============================] - 812s 598ms/step - loss: 2.1627 - val_loss: 1.9731\n",
        "Mean edit distance for epoch 26: 17.4329\n",
        "Epoch 27/50\n",
        "1357/1357 [==============================] - 810s 597ms/step - loss: 2.1446 - val_loss: 1.9606\n",
        "Mean edit distance for epoch 27: 17.4449\n",
        "Epoch 28/50\n",
        "1357/1357 [==============================] - 822s 606ms/step - loss: 2.0957 - val_loss: 1.9769\n",
        "Mean edit distance for epoch 28: 17.4341\n",
        "Epoch 29/50\n",
        "1357/1357 [==============================] - 812s 598ms/step - loss: 2.0726 - val_loss: 1.9213\n",
        "Mean edit distance for epoch 29: 17.4178\n",
        "Epoch 30/50\n",
        "1357/1357 [==============================] - 815s 601ms/step - loss: 2.0455 - val_loss: 1.9200\n",
        "Mean edit distance for epoch 30: 17.4092\n",
        "Epoch 31/50\n",
        "1357/1357 [==============================] - 813s 599ms/step - loss: 2.0118 - val_loss: 1.8677\n",
        "Mean edit distance for epoch 31: 17.4274\n",
        "Epoch 32/50\n",
        "1357/1357 [==============================] - 811s 598ms/step - loss: 1.9898 - val_loss: 1.9136\n",
        "Mean edit distance for epoch 32: 17.4260\n",
        "Epoch 33/50\n",
        "1357/1357 [==============================] - 821s 605ms/step - loss: 1.9685 - val_loss: 1.8362\n",
        "Mean edit distance for epoch 33: 17.3760\n",
        "Epoch 34/50\n",
        "1357/1357 [==============================] - 815s 600ms/step - loss: 1.9354 - val_loss: 1.8339\n",
        "Mean edit distance for epoch 34: 17.3862\n",
        "Epoch 35/50\n",
        "1357/1357 [==============================] - 814s 600ms/step - loss: 1.9006 - val_loss: 1.8429\n",
        "Mean edit distance for epoch 35: 17.3876\n",
        "Epoch 36/50\n",
        "1357/1357 [==============================] - 816s 602ms/step - loss: 1.8864 - val_loss: 1.8326\n",
        "Mean edit distance for epoch 36: 17.3735\n",
        "Epoch 37/50\n",
        "1357/1357 [==============================] - 798s 588ms/step - loss: 1.8947 - val_loss: 1.8331\n",
        "Mean edit distance for epoch 37: 17.3654\n",
        "Epoch 38/50\n",
        "1357/1357 [==============================] - 813s 599ms/step - loss: 1.8548 - val_loss: 1.8152\n",
        "Mean edit distance for epoch 38: 17.3530\n",
        "Epoch 39/50\n",
        "1357/1357 [==============================] - 818s 603ms/step - loss: 1.8383 - val_loss: 1.8059\n",
        "Mean edit distance for epoch 39: 17.3746\n",
        "Epoch 40/50\n",
        "1357/1357 [==============================] - 814s 600ms/step - loss: 1.8190 - val_loss: 1.7721\n",
        "Mean edit distance for epoch 40: 17.3437\n",
        "Epoch 41/50\n",
        "1357/1357 [==============================] - 815s 601ms/step - loss: 1.7837 - val_loss: 1.7625\n",
        "Mean edit distance for epoch 41: 17.3608\n",
        "Epoch 42/50\n",
        "1357/1357 [==============================] - 810s 597ms/step - loss: 1.7713 - val_loss: 1.8075\n",
        "Mean edit distance for epoch 42: 17.3597\n",
        "Epoch 43/50\n",
        "1357/1357 [==============================] - 808s 596ms/step - loss: 1.7641 - val_loss: 1.7402\n",
        "Mean edit distance for epoch 43: 17.3410\n",
        "Epoch 44/50\n",
        "1357/1357 [==============================] - 811s 597ms/step - loss: 1.7590 - val_loss: 1.7069\n",
        "Mean edit distance for epoch 44: 17.3302\n",
        "Epoch 45/50\n",
        "1357/1357 [==============================] - 812s 599ms/step - loss: 1.7356 - val_loss: 1.7925\n",
        "Mean edit distance for epoch 45: 17.3513\n",
        "Epoch 46/50\n",
        "1357/1357 [==============================] - 811s 598ms/step - loss: 1.7105 - val_loss: 1.7815\n",
        "Mean edit distance for epoch 46: 17.3529\n",
        "Epoch 47/50\n",
        "1357/1357 [==============================] - 803s 592ms/step - loss: 1.7029 - val_loss: 1.7361\n",
        "Mean edit distance for epoch 47: 17.3321\n",
        "Epoch 48/50\n",
        "1357/1357 [==============================] - 797s 587ms/step - loss: 1.6786 - val_loss: 1.7533\n",
        "Mean edit distance for epoch 48: 17.3293\n",
        "Epoch 49/50\n",
        "1357/1357 [==============================] - 801s 590ms/step - loss: 1.6566 - val_loss: 1.7349\n",
        "Mean edit distance for epoch 49: 17.3450\n",
        "Epoch 50/50\n",
        "1357/1357 [==============================] - 799s 589ms/step - loss: 1.6442 - val_loss: 1.7651\n",
        "Mean edit distance for epoch 50: 17.3498"
      ]
    },
    {
      "cell_type": "code",
      "metadata": {
        "id": "yBpS6LK2Xc8n"
      },
      "source": [
        "def decode_batch_predictions(pred):\n",
        "    input_len = np.ones(pred.shape[0]) * pred.shape[1]\n",
        "    # Use greedy search. For complex tasks, you can use beam search.\n",
        "    results = keras.backend.ctc_decode(pred, input_length=input_len, greedy=True)[0][0][\n",
        "        :, :max_len\n",
        "    ]\n",
        "    # Iterate over the results and get back the text.\n",
        "    output_text = []\n",
        "    for res in results:\n",
        "        res = tf.gather(res, tf.where(tf.math.not_equal(res, -1)))\n",
        "        res = tf.strings.reduce_join(num_to_char(res)).numpy().decode(\"utf-8\")\n",
        "        output_text.append(res)\n",
        "    return output_text\n",
        "\n",
        "\n",
        "#  Let's check results on some test samples.\n",
        "for batch in test_ds.take(1):\n",
        "    batch_images = batch[\"image\"]\n",
        "    _, ax = plt.subplots(4, 4, figsize=(15, 8))\n",
        "\n",
        "    preds = prediction_model.predict(batch_images)\n",
        "    pred_texts = decode_batch_predictions(preds)\n",
        "\n",
        "    for i in range(16):\n",
        "        img = batch_images[i]\n",
        "        img = tf.image.flip_left_right(img)\n",
        "        img = tf.transpose(img, perm=[1, 0, 2])\n",
        "        img = (img * 255.0).numpy().clip(0, 255).astype(np.uint8)\n",
        "        img = img[:, :, 0]\n",
        "\n",
        "        title = f\"Prediction: {pred_texts[i]}\"\n",
        "        ax[i // 4, i % 4].imshow(img, cmap=\"gray\")\n",
        "        ax[i // 4, i % 4].set_title(title)\n",
        "        ax[i // 4, i % 4].axis(\"off\")\n",
        "\n",
        "plt.show()"
      ],
      "execution_count": null,
      "outputs": []
    },
    {
      "cell_type": "code",
      "metadata": {
        "id": "2rPFHluG50GL"
      },
      "source": [
        " fig, (ax1) = plt.subplots ( figsize=(30, 12))\n",
        "ax1.plot(history.history['loss'], color='b', label=\"Training loss\")\n",
        "ax1.plot(history.history['val_loss'], color='r', label=\"validation loss\")\n",
        "ax1.set_xticks(np.arange(1, epochs, 1))\n",
        "ax1.set_yticks(np.arange(2, 14, 1))\n",
        "\n",
        "\n",
        "legend = plt.legend(loc='best', shadow=True)\n",
        "plt.tight_layout()\n",
        "plt.show()"
      ],
      "execution_count": null,
      "outputs": []
    },
    {
      "cell_type": "code",
      "metadata": {
        "id": "YHAtbaEE6NJH"
      },
      "source": [
        "model.save('/content/drive/MyDrive/Colab Notebooks/Project Kmitl/CNN-RNN')"
      ],
      "execution_count": null,
      "outputs": []
    },
    {
      "cell_type": "code",
      "metadata": {
        "id": "RllxzwdYmqPg"
      },
      "source": [
        ""
      ],
      "execution_count": null,
      "outputs": []
    }
  ]
}